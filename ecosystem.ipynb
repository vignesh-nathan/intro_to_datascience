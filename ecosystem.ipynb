{
 "cells": [
  {
   "cell_type": "markdown",
   "id": "1af24c2b",
   "metadata": {},
   "source": [
    "# Data Science Tools and Ecosystem "
   ]
  },
  {
   "cell_type": "markdown",
   "id": "e81472b4",
   "metadata": {},
   "source": [
    "In this notebook, Data Science Tools and Ecosystem are summarized."
   ]
  },
  {
   "cell_type": "markdown",
   "id": "20466641",
   "metadata": {},
   "source": [
    "Some of the popular languages that Data Scientists use are:\n",
    "1. Python\n",
    "2. R\n",
    "3. SQL\n",
    "4. Julia"
   ]
  },
  {
   "cell_type": "markdown",
   "id": "81bedcc5",
   "metadata": {},
   "source": [
    "Some of the commonly used libraries used by Data Scientists include:\n",
    "\n",
    "1. NumPy\n",
    "2. Pandas\n",
    "3. Matplotlib\n",
    "4. Scikit-Learn"
   ]
  },
  {
   "cell_type": "markdown",
   "id": "6c96e9e7",
   "metadata": {},
   "source": [
    "| Data Science Tools |\n",
    "|---|\n",
    "| Jupyter Notebook |\n",
    "| RStudio |\n",
    "| Spyder |"
   ]
  },
  {
   "cell_type": "markdown",
   "id": "2428fa68",
   "metadata": {},
   "source": [
    "\n",
    "### Below are a few examples of evaluating arithmetic expressions in Python"
   ]
  },
  {
   "cell_type": "code",
   "execution_count": 5,
   "id": "b5ae9ca5",
   "metadata": {},
   "outputs": [
    {
     "name": "stdout",
     "output_type": "stream",
     "text": [
      "17\n"
     ]
    }
   ],
   "source": [
    "# This is a simple arithmetic expression to multiply then add integers.\n",
    "print((3*4)+5)"
   ]
  },
  {
   "cell_type": "code",
   "execution_count": 6,
   "id": "d2684212",
   "metadata": {
    "scrolled": true
   },
   "outputs": [
    {
     "name": "stdout",
     "output_type": "stream",
     "text": [
      "3.3333333333333335\n"
     ]
    }
   ],
   "source": [
    "# This will convert 200 minutes to hours by dividing by 60.\n",
    "print(200 / 60)"
   ]
  },
  {
   "cell_type": "markdown",
   "id": "bff34610",
   "metadata": {},
   "source": [
    "**Objectives:**\n",
    "\n",
    "* List popular languages for Data Science.\n",
    "* Identify different types of data science libraries.\n",
    "* Create tables and lists in Markdown.\n",
    "* Write arithmetic expressions in Python.\n",
    "* Convert minutes to hours in Python."
   ]
  },
  {
   "cell_type": "markdown",
   "id": "a67d5d8a",
   "metadata": {},
   "source": [
    "## Author\n",
    "\n",
    "S. Vignesh"
   ]
  },
  {
   "cell_type": "code",
   "execution_count": null,
   "id": "1ebee677",
   "metadata": {},
   "outputs": [],
   "source": []
  }
 ],
 "metadata": {
  "kernelspec": {
   "display_name": "Python 3",
   "language": "python",
   "name": "python3"
  },
  "language_info": {
   "codemirror_mode": {
    "name": "ipython",
    "version": 3
   },
   "file_extension": ".py",
   "mimetype": "text/x-python",
   "name": "python",
   "nbconvert_exporter": "python",
   "pygments_lexer": "ipython3",
   "version": "3.11.5"
  }
 },
 "nbformat": 4,
 "nbformat_minor": 5
}
